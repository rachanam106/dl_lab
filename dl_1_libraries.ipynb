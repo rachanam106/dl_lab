{
 "cells": [
  {
   "cell_type": "markdown",
   "id": "278f1902",
   "metadata": {},
   "source": [
    "TensorFlow"
   ]
  },
  {
   "cell_type": "code",
   "execution_count": 1,
   "id": "92839d77",
   "metadata": {},
   "outputs": [
    {
     "name": "stdout",
     "output_type": "stream",
     "text": [
      "2.20.0\n",
      "tf.Tensor(983.2159, shape=(), dtype=float32)\n"
     ]
    }
   ],
   "source": [
    "import tensorflow as tf\n",
    "\n",
    "# Print TensorFlow version\n",
    "print(tf.__version__)\n",
    "\n",
    "# Test TensorFlow computation\n",
    "print(tf.reduce_sum(tf.random.normal([1000, 1000])))\n",
    "\n"
   ]
  },
  {
   "cell_type": "markdown",
   "id": "739acbbb",
   "metadata": {},
   "source": [
    "Keras MNIST Test Program"
   ]
  },
  {
   "cell_type": "code",
   "execution_count": 2,
   "id": "b2283467",
   "metadata": {},
   "outputs": [
    {
     "name": "stdout",
     "output_type": "stream",
     "text": [
      "Training images shape: (60000, 28, 28)\n",
      "Test images shape: (10000, 28, 28)\n"
     ]
    }
   ],
   "source": [
    "from tensorflow import keras\n",
    "from keras.datasets import mnist\n",
    "\n",
    "# Load MNIST data\n",
    "(train_images, train_labels), (test_images, test_labels) = mnist.load_data()\n",
    "\n",
    "# Check dataset shape\n",
    "print(\"Training images shape:\", train_images.shape)\n",
    "print(\"Test images shape:\", test_images.shape)\n"
   ]
  },
  {
   "cell_type": "markdown",
   "id": "9d894baa",
   "metadata": {},
   "source": [
    "Theano Addition Program"
   ]
  },
  {
   "cell_type": "code",
   "execution_count": 3,
   "id": "7cea58ce",
   "metadata": {},
   "outputs": [
    {
     "name": "stdout",
     "output_type": "stream",
     "text": [
      "Requirement already satisfied: pymc in c:\\users\\racha\\anaconda3\\envs\\pythonproject3\\lib\\site-packages (5.25.1)\n",
      "Requirement already satisfied: theano-pymc in c:\\users\\racha\\anaconda3\\envs\\pythonproject3\\lib\\site-packages (1.1.2)\n",
      "Requirement already satisfied: arviz>=0.13.0 in c:\\users\\racha\\anaconda3\\envs\\pythonproject3\\lib\\site-packages (from pymc) (0.22.0)\n",
      "Requirement already satisfied: cachetools>=4.2.1 in c:\\users\\racha\\anaconda3\\envs\\pythonproject3\\lib\\site-packages (from pymc) (6.2.1)\n",
      "Requirement already satisfied: cloudpickle in c:\\users\\racha\\anaconda3\\envs\\pythonproject3\\lib\\site-packages (from pymc) (3.1.1)\n",
      "Requirement already satisfied: numpy>=1.25.0 in c:\\users\\racha\\anaconda3\\envs\\pythonproject3\\lib\\site-packages (from pymc) (1.26.4)\n",
      "Requirement already satisfied: pandas>=0.24.0 in c:\\users\\racha\\anaconda3\\envs\\pythonproject3\\lib\\site-packages (from pymc) (2.3.3)\n",
      "Requirement already satisfied: pytensor<2.32,>=2.31.7 in c:\\users\\racha\\anaconda3\\envs\\pythonproject3\\lib\\site-packages (from pymc) (2.31.7)\n",
      "Requirement already satisfied: rich>=13.7.1 in c:\\users\\racha\\anaconda3\\envs\\pythonproject3\\lib\\site-packages (from pymc) (14.2.0)\n",
      "Requirement already satisfied: scipy>=1.4.1 in c:\\users\\racha\\anaconda3\\envs\\pythonproject3\\lib\\site-packages (from pymc) (1.12.0)\n",
      "Requirement already satisfied: threadpoolctl<4.0.0,>=3.1.0 in c:\\users\\racha\\anaconda3\\envs\\pythonproject3\\lib\\site-packages (from pymc) (3.6.0)\n",
      "Requirement already satisfied: typing-extensions>=3.7.4 in c:\\users\\racha\\anaconda3\\envs\\pythonproject3\\lib\\site-packages (from pymc) (4.15.0)\n",
      "Requirement already satisfied: filelock in c:\\users\\racha\\anaconda3\\envs\\pythonproject3\\lib\\site-packages (from theano-pymc) (3.19.1)\n",
      "Requirement already satisfied: setuptools>=60.0.0 in c:\\users\\racha\\anaconda3\\envs\\pythonproject3\\lib\\site-packages (from arviz>=0.13.0->pymc) (68.2.2)\n",
      "Requirement already satisfied: matplotlib>=3.8 in c:\\users\\racha\\anaconda3\\envs\\pythonproject3\\lib\\site-packages (from arviz>=0.13.0->pymc) (3.10.6)\n",
      "Requirement already satisfied: packaging in c:\\users\\racha\\anaconda3\\envs\\pythonproject3\\lib\\site-packages (from arviz>=0.13.0->pymc) (25.0)\n",
      "Requirement already satisfied: xarray>=2023.7.0 in c:\\users\\racha\\anaconda3\\envs\\pythonproject3\\lib\\site-packages (from arviz>=0.13.0->pymc) (2025.6.1)\n",
      "Requirement already satisfied: h5netcdf>=1.0.2 in c:\\users\\racha\\anaconda3\\envs\\pythonproject3\\lib\\site-packages (from arviz>=0.13.0->pymc) (1.7.2)\n",
      "Requirement already satisfied: xarray-einstats>=0.3 in c:\\users\\racha\\anaconda3\\envs\\pythonproject3\\lib\\site-packages (from arviz>=0.13.0->pymc) (0.8.0)\n",
      "Requirement already satisfied: python-dateutil>=2.8.2 in c:\\users\\racha\\anaconda3\\envs\\pythonproject3\\lib\\site-packages (from pandas>=0.24.0->pymc) (2.9.0.post0)\n",
      "Requirement already satisfied: pytz>=2020.1 in c:\\users\\racha\\anaconda3\\envs\\pythonproject3\\lib\\site-packages (from pandas>=0.24.0->pymc) (2025.2)\n",
      "Requirement already satisfied: tzdata>=2022.7 in c:\\users\\racha\\anaconda3\\envs\\pythonproject3\\lib\\site-packages (from pandas>=0.24.0->pymc) (2025.2)\n",
      "Requirement already satisfied: etuples in c:\\users\\racha\\anaconda3\\envs\\pythonproject3\\lib\\site-packages (from pytensor<2.32,>=2.31.7->pymc) (0.3.10)\n",
      "Requirement already satisfied: logical-unification in c:\\users\\racha\\anaconda3\\envs\\pythonproject3\\lib\\site-packages (from pytensor<2.32,>=2.31.7->pymc) (0.4.6)\n",
      "Requirement already satisfied: miniKanren in c:\\users\\racha\\anaconda3\\envs\\pythonproject3\\lib\\site-packages (from pytensor<2.32,>=2.31.7->pymc) (1.0.5)\n",
      "Requirement already satisfied: cons in c:\\users\\racha\\anaconda3\\envs\\pythonproject3\\lib\\site-packages (from pytensor<2.32,>=2.31.7->pymc) (0.4.7)\n",
      "Requirement already satisfied: markdown-it-py>=2.2.0 in c:\\users\\racha\\anaconda3\\envs\\pythonproject3\\lib\\site-packages (from rich>=13.7.1->pymc) (4.0.0)\n",
      "Requirement already satisfied: pygments<3.0.0,>=2.13.0 in c:\\users\\racha\\anaconda3\\envs\\pythonproject3\\lib\\site-packages (from rich>=13.7.1->pymc) (2.19.2)\n",
      "Requirement already satisfied: h5py in c:\\users\\racha\\anaconda3\\envs\\pythonproject3\\lib\\site-packages (from h5netcdf>=1.0.2->arviz>=0.13.0->pymc) (3.15.1)\n",
      "Requirement already satisfied: mdurl~=0.1 in c:\\users\\racha\\anaconda3\\envs\\pythonproject3\\lib\\site-packages (from markdown-it-py>=2.2.0->rich>=13.7.1->pymc) (0.1.2)\n",
      "Requirement already satisfied: contourpy>=1.0.1 in c:\\users\\racha\\anaconda3\\envs\\pythonproject3\\lib\\site-packages (from matplotlib>=3.8->arviz>=0.13.0->pymc) (1.3.2)\n",
      "Requirement already satisfied: cycler>=0.10 in c:\\users\\racha\\anaconda3\\envs\\pythonproject3\\lib\\site-packages (from matplotlib>=3.8->arviz>=0.13.0->pymc) (0.12.1)\n",
      "Requirement already satisfied: fonttools>=4.22.0 in c:\\users\\racha\\anaconda3\\envs\\pythonproject3\\lib\\site-packages (from matplotlib>=3.8->arviz>=0.13.0->pymc) (4.60.1)\n",
      "Requirement already satisfied: kiwisolver>=1.3.1 in c:\\users\\racha\\anaconda3\\envs\\pythonproject3\\lib\\site-packages (from matplotlib>=3.8->arviz>=0.13.0->pymc) (1.4.9)\n",
      "Requirement already satisfied: pillow>=8 in c:\\users\\racha\\anaconda3\\envs\\pythonproject3\\lib\\site-packages (from matplotlib>=3.8->arviz>=0.13.0->pymc) (11.3.0)\n",
      "Requirement already satisfied: pyparsing>=2.3.1 in c:\\users\\racha\\anaconda3\\envs\\pythonproject3\\lib\\site-packages (from matplotlib>=3.8->arviz>=0.13.0->pymc) (3.2.5)\n",
      "Requirement already satisfied: six>=1.5 in c:\\users\\racha\\anaconda3\\envs\\pythonproject3\\lib\\site-packages (from python-dateutil>=2.8.2->pandas>=0.24.0->pymc) (1.17.0)\n",
      "Requirement already satisfied: toolz in c:\\users\\racha\\anaconda3\\envs\\pythonproject3\\lib\\site-packages (from logical-unification->pytensor<2.32,>=2.31.7->pymc) (1.1.0)\n",
      "Requirement already satisfied: multipledispatch in c:\\users\\racha\\anaconda3\\envs\\pythonproject3\\lib\\site-packages (from logical-unification->pytensor<2.32,>=2.31.7->pymc) (1.0.0)\n"
     ]
    }
   ],
   "source": [
    "!pip install pymc theano-pymc\n"
   ]
  },
  {
   "cell_type": "code",
   "execution_count": 4,
   "id": "0502502f",
   "metadata": {},
   "outputs": [
    {
     "name": "stdout",
     "output_type": "stream",
     "text": [
      "Requirement already satisfied: aesara in c:\\users\\racha\\anaconda3\\envs\\pythonproject3\\lib\\site-packages (2.9.4)\n",
      "Requirement already satisfied: cons in c:\\users\\racha\\anaconda3\\envs\\pythonproject3\\lib\\site-packages (from aesara) (0.4.7)\n",
      "Requirement already satisfied: etuples in c:\\users\\racha\\anaconda3\\envs\\pythonproject3\\lib\\site-packages (from aesara) (0.3.10)\n",
      "Requirement already satisfied: filelock in c:\\users\\racha\\anaconda3\\envs\\pythonproject3\\lib\\site-packages (from aesara) (3.19.1)\n",
      "Requirement already satisfied: logical-unification in c:\\users\\racha\\anaconda3\\envs\\pythonproject3\\lib\\site-packages (from aesara) (0.4.6)\n",
      "Requirement already satisfied: minikanren in c:\\users\\racha\\anaconda3\\envs\\pythonproject3\\lib\\site-packages (from aesara) (1.0.5)\n",
      "Requirement already satisfied: numpy<2.0.0,>=1.17.0 in c:\\users\\racha\\anaconda3\\envs\\pythonproject3\\lib\\site-packages (from aesara) (1.26.4)\n",
      "Requirement already satisfied: scipy<=1.12.0,>=0.14 in c:\\users\\racha\\anaconda3\\envs\\pythonproject3\\lib\\site-packages (from aesara) (1.12.0)\n",
      "Requirement already satisfied: setuptools>=48.0.0 in c:\\users\\racha\\anaconda3\\envs\\pythonproject3\\lib\\site-packages (from aesara) (68.2.2)\n",
      "Requirement already satisfied: typing-extensions in c:\\users\\racha\\anaconda3\\envs\\pythonproject3\\lib\\site-packages (from aesara) (4.15.0)\n",
      "Requirement already satisfied: toolz in c:\\users\\racha\\anaconda3\\envs\\pythonproject3\\lib\\site-packages (from logical-unification->aesara) (1.1.0)\n",
      "Requirement already satisfied: multipledispatch in c:\\users\\racha\\anaconda3\\envs\\pythonproject3\\lib\\site-packages (from logical-unification->aesara) (1.0.0)\n"
     ]
    }
   ],
   "source": [
    "!pip install aesara\n"
   ]
  },
  {
   "cell_type": "code",
   "execution_count": 5,
   "id": "56c80e9d",
   "metadata": {},
   "outputs": [
    {
     "name": "stdout",
     "output_type": "stream",
     "text": [
      "WARN: Could not locate executable g77\n",
      "WARN: Could not locate executable f77\n",
      "WARN: Could not locate executable ifort\n",
      "WARN: Could not locate executable ifl\n",
      "WARN: Could not locate executable f90\n",
      "WARN: Could not locate executable DF\n",
      "WARN: Could not locate executable efl\n"
     ]
    },
    {
     "name": "stderr",
     "output_type": "stream",
     "text": [
      "c:\\Users\\racha\\anaconda3\\envs\\pythonProject3\\lib\\site-packages\\numpy\\distutils\\system_info.py:2159: UserWarning: \n",
      "    Optimized (vendor) Blas libraries are not found.\n",
      "    Falls back to netlib Blas library which has worse performance.\n",
      "    A better performance should be easily gained by switching\n",
      "    Blas library.\n",
      "  if self._calc_info(blas):\n",
      "c:\\Users\\racha\\anaconda3\\envs\\pythonProject3\\lib\\site-packages\\numpy\\distutils\\system_info.py:2159: UserWarning: \n",
      "    Blas (http://www.netlib.org/blas/) libraries not found.\n",
      "    Directories to search for the libraries can be specified in the\n",
      "    numpy/distutils/site.cfg file (section [blas]) or by setting\n",
      "    the BLAS environment variable.\n",
      "  if self._calc_info(blas):\n",
      "c:\\Users\\racha\\anaconda3\\envs\\pythonProject3\\lib\\site-packages\\numpy\\distutils\\system_info.py:2159: UserWarning: \n",
      "    Blas (http://www.netlib.org/blas/) sources not found.\n",
      "    Directories to search for the sources can be specified in the\n",
      "    numpy/distutils/site.cfg file (section [blas_src]) or by setting\n",
      "    the BLAS_SRC environment variable.\n",
      "  if self._calc_info(blas):\n",
      "WARNING (aesara.tensor.blas): Using NumPy C-API based implementation for BLAS functions.\n"
     ]
    },
    {
     "name": "stdout",
     "output_type": "stream",
     "text": [
      "12.0\n"
     ]
    }
   ],
   "source": [
    "import aesara\n",
    "aesara.config.mode = \"FAST_COMPILE\"\n",
    "aesara.config.cxx = \"\"  \n",
    "\n",
    "import aesara.tensor as T\n",
    "from aesara import function\n",
    "\n",
    "# Declare symbolic variables\n",
    "x = T.dscalar('x')\n",
    "y = T.dscalar('y')\n",
    "\n",
    "# Define an expression\n",
    "z = x + y\n",
    "\n",
    "# Compile the function\n",
    "f = function([x, y], z)\n",
    "\n",
    "# Test\n",
    "print(f(5, 7))\n"
   ]
  },
  {
   "cell_type": "markdown",
   "id": "6427f98b",
   "metadata": {},
   "source": [
    "PyTorch test program"
   ]
  },
  {
   "cell_type": "code",
   "execution_count": 6,
   "id": "4241b94a",
   "metadata": {},
   "outputs": [
    {
     "name": "stdout",
     "output_type": "stream",
     "text": [
      "PyTorch version: 2.5.1+cu121\n",
      "\n",
      "Random tensor:\n",
      " tensor([[0.3558, 0.5725, 0.7568],\n",
      "        [0.8908, 0.3826, 0.9511],\n",
      "        [0.2510, 0.3191, 0.6925]])\n",
      "\n",
      "CUDA available: True\n"
     ]
    }
   ],
   "source": [
    "# Test program for PyTorch\n",
    "\n",
    "# The usual imports\n",
    "import torch\n",
    "import torch.nn as nn\n",
    "\n",
    "# Print out the PyTorch version used\n",
    "print(\"PyTorch version:\", torch.__version__)\n",
    "\n",
    "# Simple test to check if PyTorch is working properly\n",
    "x = torch.rand(3, 3)\n",
    "print(\"\\nRandom tensor:\\n\", x)\n",
    "\n",
    "# Check if CUDA (GPU) is available\n",
    "print(\"\\nCUDA available:\", torch.cuda.is_available())\n"
   ]
  },
  {
   "cell_type": "code",
   "execution_count": 7,
   "id": "7612b6f0",
   "metadata": {},
   "outputs": [
    {
     "name": "stdout",
     "output_type": "stream",
     "text": [
      "Requirement already satisfied: torch in c:\\users\\racha\\anaconda3\\envs\\pythonproject3\\lib\\site-packages (2.5.1+cu121)\n",
      "Requirement already satisfied: filelock in c:\\users\\racha\\anaconda3\\envs\\pythonproject3\\lib\\site-packages (from torch) (3.19.1)\n",
      "Requirement already satisfied: typing-extensions>=4.8.0 in c:\\users\\racha\\anaconda3\\envs\\pythonproject3\\lib\\site-packages (from torch) (4.15.0)\n",
      "Requirement already satisfied: networkx in c:\\users\\racha\\anaconda3\\envs\\pythonproject3\\lib\\site-packages (from torch) (3.4.2)\n",
      "Requirement already satisfied: jinja2 in c:\\users\\racha\\anaconda3\\envs\\pythonproject3\\lib\\site-packages (from torch) (3.1.6)\n",
      "Requirement already satisfied: fsspec in c:\\users\\racha\\anaconda3\\envs\\pythonproject3\\lib\\site-packages (from torch) (2025.9.0)\n",
      "Requirement already satisfied: sympy==1.13.1 in c:\\users\\racha\\anaconda3\\envs\\pythonproject3\\lib\\site-packages (from torch) (1.13.1)\n",
      "Requirement already satisfied: mpmath<1.4,>=1.1.0 in c:\\users\\racha\\anaconda3\\envs\\pythonproject3\\lib\\site-packages (from sympy==1.13.1->torch) (1.3.0)\n",
      "Requirement already satisfied: MarkupSafe>=2.0 in c:\\users\\racha\\anaconda3\\envs\\pythonproject3\\lib\\site-packages (from jinja2->torch) (3.0.3)\n"
     ]
    }
   ],
   "source": [
    "!pip install torch\n"
   ]
  },
  {
   "cell_type": "code",
   "execution_count": 8,
   "id": "de3677d9",
   "metadata": {},
   "outputs": [
    {
     "name": "stdout",
     "output_type": "stream",
     "text": [
      "Requirement already satisfied: tensorflow in c:\\users\\racha\\anaconda3\\envs\\pythonproject3\\lib\\site-packages (2.20.0)\n",
      "Requirement already satisfied: absl-py>=1.0.0 in c:\\users\\racha\\anaconda3\\envs\\pythonproject3\\lib\\site-packages (from tensorflow) (2.3.1)\n",
      "Requirement already satisfied: astunparse>=1.6.0 in c:\\users\\racha\\anaconda3\\envs\\pythonproject3\\lib\\site-packages (from tensorflow) (1.6.3)\n",
      "Requirement already satisfied: flatbuffers>=24.3.25 in c:\\users\\racha\\anaconda3\\envs\\pythonproject3\\lib\\site-packages (from tensorflow) (25.9.23)\n",
      "Requirement already satisfied: gast!=0.5.0,!=0.5.1,!=0.5.2,>=0.2.1 in c:\\users\\racha\\anaconda3\\envs\\pythonproject3\\lib\\site-packages (from tensorflow) (0.6.0)\n",
      "Requirement already satisfied: google_pasta>=0.1.1 in c:\\users\\racha\\anaconda3\\envs\\pythonproject3\\lib\\site-packages (from tensorflow) (0.2.0)\n",
      "Requirement already satisfied: libclang>=13.0.0 in c:\\users\\racha\\anaconda3\\envs\\pythonproject3\\lib\\site-packages (from tensorflow) (18.1.1)\n",
      "Requirement already satisfied: opt_einsum>=2.3.2 in c:\\users\\racha\\anaconda3\\envs\\pythonproject3\\lib\\site-packages (from tensorflow) (3.4.0)\n",
      "Requirement already satisfied: packaging in c:\\users\\racha\\anaconda3\\envs\\pythonproject3\\lib\\site-packages (from tensorflow) (25.0)\n",
      "Requirement already satisfied: protobuf>=5.28.0 in c:\\users\\racha\\anaconda3\\envs\\pythonproject3\\lib\\site-packages (from tensorflow) (6.33.0)\n",
      "Requirement already satisfied: requests<3,>=2.21.0 in c:\\users\\racha\\anaconda3\\envs\\pythonproject3\\lib\\site-packages (from tensorflow) (2.32.5)\n",
      "Requirement already satisfied: setuptools in c:\\users\\racha\\anaconda3\\envs\\pythonproject3\\lib\\site-packages (from tensorflow) (68.2.2)\n",
      "Requirement already satisfied: six>=1.12.0 in c:\\users\\racha\\anaconda3\\envs\\pythonproject3\\lib\\site-packages (from tensorflow) (1.17.0)\n",
      "Requirement already satisfied: termcolor>=1.1.0 in c:\\users\\racha\\anaconda3\\envs\\pythonproject3\\lib\\site-packages (from tensorflow) (3.1.0)\n",
      "Requirement already satisfied: typing_extensions>=3.6.6 in c:\\users\\racha\\anaconda3\\envs\\pythonproject3\\lib\\site-packages (from tensorflow) (4.15.0)\n",
      "Requirement already satisfied: wrapt>=1.11.0 in c:\\users\\racha\\anaconda3\\envs\\pythonproject3\\lib\\site-packages (from tensorflow) (1.17.3)\n",
      "Requirement already satisfied: grpcio<2.0,>=1.24.3 in c:\\users\\racha\\anaconda3\\envs\\pythonproject3\\lib\\site-packages (from tensorflow) (1.75.1)\n",
      "Requirement already satisfied: tensorboard~=2.20.0 in c:\\users\\racha\\anaconda3\\envs\\pythonproject3\\lib\\site-packages (from tensorflow) (2.20.0)\n",
      "Requirement already satisfied: keras>=3.10.0 in c:\\users\\racha\\anaconda3\\envs\\pythonproject3\\lib\\site-packages (from tensorflow) (3.11.3)\n",
      "Requirement already satisfied: numpy>=1.26.0 in c:\\users\\racha\\anaconda3\\envs\\pythonproject3\\lib\\site-packages (from tensorflow) (1.26.4)\n",
      "Requirement already satisfied: h5py>=3.11.0 in c:\\users\\racha\\anaconda3\\envs\\pythonproject3\\lib\\site-packages (from tensorflow) (3.15.1)\n",
      "Requirement already satisfied: ml_dtypes<1.0.0,>=0.5.1 in c:\\users\\racha\\anaconda3\\envs\\pythonproject3\\lib\\site-packages (from tensorflow) (0.5.3)\n",
      "Requirement already satisfied: wheel<1.0,>=0.23.0 in c:\\users\\racha\\anaconda3\\envs\\pythonproject3\\lib\\site-packages (from astunparse>=1.6.0->tensorflow) (0.41.2)\n",
      "Requirement already satisfied: rich in c:\\users\\racha\\anaconda3\\envs\\pythonproject3\\lib\\site-packages (from keras>=3.10.0->tensorflow) (14.2.0)\n",
      "Requirement already satisfied: namex in c:\\users\\racha\\anaconda3\\envs\\pythonproject3\\lib\\site-packages (from keras>=3.10.0->tensorflow) (0.1.0)\n",
      "Requirement already satisfied: optree in c:\\users\\racha\\anaconda3\\envs\\pythonproject3\\lib\\site-packages (from keras>=3.10.0->tensorflow) (0.17.0)\n",
      "Requirement already satisfied: charset_normalizer<4,>=2 in c:\\users\\racha\\anaconda3\\envs\\pythonproject3\\lib\\site-packages (from requests<3,>=2.21.0->tensorflow) (3.4.3)\n",
      "Requirement already satisfied: idna<4,>=2.5 in c:\\users\\racha\\anaconda3\\envs\\pythonproject3\\lib\\site-packages (from requests<3,>=2.21.0->tensorflow) (3.10)\n",
      "Requirement already satisfied: urllib3<3,>=1.21.1 in c:\\users\\racha\\anaconda3\\envs\\pythonproject3\\lib\\site-packages (from requests<3,>=2.21.0->tensorflow) (2.5.0)\n",
      "Requirement already satisfied: certifi>=2017.4.17 in c:\\users\\racha\\anaconda3\\envs\\pythonproject3\\lib\\site-packages (from requests<3,>=2.21.0->tensorflow) (2025.8.3)\n",
      "Requirement already satisfied: markdown>=2.6.8 in c:\\users\\racha\\anaconda3\\envs\\pythonproject3\\lib\\site-packages (from tensorboard~=2.20.0->tensorflow) (3.9)\n",
      "Requirement already satisfied: pillow in c:\\users\\racha\\anaconda3\\envs\\pythonproject3\\lib\\site-packages (from tensorboard~=2.20.0->tensorflow) (11.3.0)\n",
      "Requirement already satisfied: tensorboard-data-server<0.8.0,>=0.7.0 in c:\\users\\racha\\anaconda3\\envs\\pythonproject3\\lib\\site-packages (from tensorboard~=2.20.0->tensorflow) (0.7.2)\n",
      "Requirement already satisfied: werkzeug>=1.0.1 in c:\\users\\racha\\anaconda3\\envs\\pythonproject3\\lib\\site-packages (from tensorboard~=2.20.0->tensorflow) (3.1.3)\n",
      "Requirement already satisfied: MarkupSafe>=2.1.1 in c:\\users\\racha\\anaconda3\\envs\\pythonproject3\\lib\\site-packages (from werkzeug>=1.0.1->tensorboard~=2.20.0->tensorflow) (3.0.3)\n",
      "Requirement already satisfied: markdown-it-py>=2.2.0 in c:\\users\\racha\\anaconda3\\envs\\pythonproject3\\lib\\site-packages (from rich->keras>=3.10.0->tensorflow) (4.0.0)\n",
      "Requirement already satisfied: pygments<3.0.0,>=2.13.0 in c:\\users\\racha\\anaconda3\\envs\\pythonproject3\\lib\\site-packages (from rich->keras>=3.10.0->tensorflow) (2.19.2)\n",
      "Requirement already satisfied: mdurl~=0.1 in c:\\users\\racha\\anaconda3\\envs\\pythonproject3\\lib\\site-packages (from markdown-it-py>=2.2.0->rich->keras>=3.10.0->tensorflow) (0.1.2)\n"
     ]
    }
   ],
   "source": [
    "!pip install tensorflow"
   ]
  },
  {
   "cell_type": "code",
   "execution_count": null,
   "id": "1aa30b3a",
   "metadata": {},
   "outputs": [],
   "source": []
  }
 ],
 "metadata": {
  "kernelspec": {
   "display_name": "pythonProject3",
   "language": "python",
   "name": "python3"
  },
  "language_info": {
   "codemirror_mode": {
    "name": "ipython",
    "version": 3
   },
   "file_extension": ".py",
   "mimetype": "text/x-python",
   "name": "python",
   "nbconvert_exporter": "python",
   "pygments_lexer": "ipython3",
   "version": "3.10.14"
  }
 },
 "nbformat": 4,
 "nbformat_minor": 5
}
